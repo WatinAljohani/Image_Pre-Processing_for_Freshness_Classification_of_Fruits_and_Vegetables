{
  "cells": [
    {
      "cell_type": "markdown",
      "metadata": {
        "id": "dzlrHHVzaikQ"
      },
      "source": [
        "##Unzip for the folder"
      ]
    },
    {
      "cell_type": "code",
      "execution_count": null,
      "metadata": {
        "id": "5nGeq17kvGlR"
      },
      "outputs": [],
      "source": [
        "!unzip -q /content/rotten_tomato.zip -d /content/dataset_rotten_tomato/"
      ]
    },
    {
      "cell_type": "markdown",
      "metadata": {
        "id": "E-8nNgOjaphT"
      },
      "source": [
        "##Code for **image processing**"
      ]
    },
    {
      "cell_type": "code",
      "execution_count": null,
      "metadata": {
        "colab": {
          "base_uri": "https://localhost:8080/",
          "height": 17
        },
        "id": "yo-ZEG6ivP84",
        "outputId": "1a88e146-65aa-42f0-b848-e4cb003bfefe"
      },
      "outputs": [
        {
          "data": {
            "application/javascript": "\n    async function download(id, filename, size) {\n      if (!google.colab.kernel.accessAllowed) {\n        return;\n      }\n      const div = document.createElement('div');\n      const label = document.createElement('label');\n      label.textContent = `Downloading \"${filename}\": `;\n      div.appendChild(label);\n      const progress = document.createElement('progress');\n      progress.max = size;\n      div.appendChild(progress);\n      document.body.appendChild(div);\n\n      const buffers = [];\n      let downloaded = 0;\n\n      const channel = await google.colab.kernel.comms.open(id);\n      // Send a message to notify the kernel that we're ready.\n      channel.send({})\n\n      for await (const message of channel.messages) {\n        // Send a message to notify the kernel that we're ready.\n        channel.send({})\n        if (message.buffers) {\n          for (const buffer of message.buffers) {\n            buffers.push(buffer);\n            downloaded += buffer.byteLength;\n            progress.value = downloaded;\n          }\n        }\n      }\n      const blob = new Blob(buffers, {type: 'application/binary'});\n      const a = document.createElement('a');\n      a.href = window.URL.createObjectURL(blob);\n      a.download = filename;\n      div.appendChild(a);\n      a.click();\n      div.remove();\n    }\n  ",
            "text/plain": [
              "<IPython.core.display.Javascript object>"
            ]
          },
          "metadata": {},
          "output_type": "display_data"
        },
        {
          "data": {
            "application/javascript": "download(\"download_151dab09-e8c2-458c-97df-7bdc26c86393\", \"processed_rotten_tomato_dataset.zip\", 305641)",
            "text/plain": [
              "<IPython.core.display.Javascript object>"
            ]
          },
          "metadata": {},
          "output_type": "display_data"
        }
      ],
      "source": [
        "import os\n",
        "import cv2\n",
        "import numpy as np\n",
        "import matplotlib.pyplot as plt\n",
        "from tensorflow.keras.preprocessing.image import ImageDataGenerator\n",
        "import zipfile\n",
        "\n",
        "def preprocess_image(image):\n",
        "    original = cv2.cvtColor(image, cv2.COLOR_BGR2RGB)\n",
        "    image = cv2.convertScaleAbs(original, alpha=1.3, beta=0)\n",
        "    image = cv2.resize(image, (150, 150))\n",
        "    hsv_image = cv2.cvtColor(image, cv2.COLOR_RGB2HSV)\n",
        "    s_channel = hsv_image[:, :, 1]\n",
        "    _, thresholded = cv2.threshold(s_channel, 50, 255, cv2.THRESH_BINARY)\n",
        "    kernel = np.ones((5, 5), np.uint8)\n",
        "    closed_mask = cv2.morphologyEx(thresholded, cv2.MORPH_CLOSE, kernel)\n",
        "    dilated_mask = cv2.dilate(closed_mask, kernel, iterations=2)\n",
        "    segmented_image = cv2.bitwise_and(image, image, mask=dilated_mask)\n",
        "    processed = segmented_image.astype('uint8')\n",
        "    return processed\n",
        "\n",
        "def save_processed_images(base_dir, save_dir):\n",
        "    if not os.path.exists(save_dir):\n",
        "        os.makedirs(save_dir)\n",
        "    file_paths = []\n",
        "    for root, dirs, files in os.walk(base_dir):\n",
        "        for file in files:\n",
        "            if file.lower().endswith(('.jpg', '.jpeg', '.png')):\n",
        "                file_paths.append(os.path.join(root, file))\n",
        "    for file_path in file_paths:\n",
        "        image = cv2.imread(file_path)\n",
        "        processed_image = preprocess_image(image)\n",
        "        save_path = os.path.join(save_dir, os.path.basename(file_path))\n",
        "        cv2.imwrite(save_path, cv2.cvtColor(processed_image, cv2.COLOR_RGB2BGR))\n",
        "\n",
        "# Set the base directory to the location of your dataset and the directory to save processed images\n",
        "base_dir = '/content/dataset_rotten_tomato'  # Update this path as needed\n",
        "save_dir = '/content/processed_rotten_tomato_dataset'  # Update this path as needed\n",
        "save_processed_images(base_dir, save_dir)\n",
        "\n",
        "# Zip the processed images directory for easy download\n",
        "zipf = zipfile.ZipFile('/content/processed_rotten_tomato_dataset.zip', 'w', zipfile.ZIP_DEFLATED)\n",
        "for root, dirs, files in os.walk(save_dir):\n",
        "    for file in files:\n",
        "        zipf.write(os.path.join(root, file), os.path.relpath(os.path.join(root, file), os.path.join(save_dir, '..')))\n",
        "zipf.close()\n",
        "\n",
        "# Provide a download link (specifically for Colab, adjust as necessary)\n",
        "from google.colab import files\n",
        "files.download('/content/processed_rotten_tomato_dataset.zip')"
      ]
    }
  ],
  "metadata": {
    "colab": {
      "provenance": []
    },
    "kernelspec": {
      "display_name": "Python 3",
      "name": "python3"
    },
    "language_info": {
      "name": "python"
    }
  },
  "nbformat": 4,
  "nbformat_minor": 0
}
